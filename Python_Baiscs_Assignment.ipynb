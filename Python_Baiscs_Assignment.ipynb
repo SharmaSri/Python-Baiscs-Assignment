{
  "nbformat": 4,
  "nbformat_minor": 0,
  "metadata": {
    "colab": {
      "provenance": []
    },
    "kernelspec": {
      "name": "python3",
      "display_name": "Python 3"
    },
    "language_info": {
      "name": "python"
    }
  },
  "cells": [
    {
      "cell_type": "code",
      "execution_count": null,
      "metadata": {
        "id": "QmAdBQDVA_k-"
      },
      "outputs": [],
      "source": []
    },
    {
      "cell_type": "markdown",
      "source": [
        "Explain the key features of Python that make it a popular choice for programming.\n",
        "\n",
        "Python is one of the most popular and widely used programming languages in the world today. Its success is attributed to several key features that make it highly appealing for both beginners and experienced developers. Here are the key features that contribute to Python’s popularity:\n",
        "\n",
        "1. Readability and Simplicity\n",
        "Clear Syntax: Python is known for its easy-to-read, clean, and concise syntax, which makes it an excellent choice for beginners. It emphasizes readability, reducing the cost of program maintenance and enhancing the development process.\n",
        "Minimalistic Syntax: Python’s syntax is designed to be straightforward and intuitive, using fewer lines of code to accomplish the same task compared to other languages like Java or C++.\n",
        "English-Like Language: The language often uses English keywords, such as if, else, for, while, which makes it easier to learn and understand.\n",
        "2. High-Level Language\n",
        "Abstraction from Hardware: Python is a high-level language, which means it handles memory management and other low-level operations for the programmer. This makes it easier to focus on solving problems without worrying about details like memory allocation or pointer manipulation.\n",
        "3. Interpreted Language\n",
        "No Compilation Step: Python is an interpreted language, meaning the code is executed line-by-line by an interpreter at runtime. This allows for quicker testing and debugging since you can run code immediately without needing to compile it first.\n",
        "4. Dynamic Typing\n",
        "Flexible Variable Types: In Python, you don’t need to declare variable types explicitly (e.g., int, float, string). The interpreter infers the type at runtime, allowing for more flexible and quicker development.\n",
        "Easier Refactoring: Since Python is dynamically typed, you can change the type of a variable during runtime without causing issues, making the codebase more flexible to change.\n",
        "5. Extensive Standard Library\n",
        "Batteries Included: Python comes with a vast standard library that provides built-in modules and functions to handle everything from file I/O to regular expressions, data manipulation, networking, and more. This means developers can get started on many tasks right out of the box.\n",
        "Cross-Platform Support: Python libraries are compatible across different operating systems, allowing code to run on Windows, macOS, Linux, etc., without modification.\n",
        "6. Community and Ecosystem\n",
        "Large Supportive Community: Python has a huge and active global community of developers who contribute to open-source projects, offer help on forums (like Stack Overflow), and create tutorials and guides for newcomers.\n",
        "Extensive Third-Party Libraries: The Python Package Index (PyPI) hosts thousands of third-party libraries and frameworks that extend Python's capabilities in various fields, including data science (e.g., NumPy, pandas, matplotlib), web development (e.g., Django, Flask), machine learning (e.g., TensorFlow, scikit-learn), and more.\n",
        "7. Portability\n",
        "Cross-Platform Compatibility: Python code can be run on any platform that has the Python interpreter installed, which includes most operating systems. This makes it easy to develop cross-platform applications without needing to rewrite the code.\n",
        "Easy Integration: Python can easily integrate with other languages like C, C++, and Java, allowing for the inclusion of performance-critical modules or leveraging existing codebases in other languages.\n",
        "8. Support for Multiple Programming Paradigms\n",
        "Object-Oriented Programming (OOP): Python supports object-oriented programming, which allows developers to structure code using classes and objects. This helps in organizing complex programs.\n",
        "Procedural Programming: Python also supports procedural programming, which involves writing functions that perform operations on data.\n",
        "Functional Programming: Python includes functional programming features such as higher-order functions, lambda expressions, and list comprehensions, enabling a more functional approach to problem-solving.\n",
        "9. Extensive Documentation\n",
        "Well-Documented: Python has excellent official documentation that covers all aspects of the language, including tutorials, guides, and references. Additionally, the community regularly creates supplementary documentation to cover popular libraries and frameworks.\n",
        "10. Scalability and Flexibility\n",
        "Suitable for Small and Large Projects: Python is versatile enough to handle everything from small scripts to large-scale applications. Frameworks like Django and Flask help in building scalable web applications, while tools like Celery and Docker allow for distributed systems development.\n",
        "Prototyping and Production: Python is often used for rapid prototyping due to its simplicity, but its ecosystem supports scaling applications for production use in various industries, from finance to healthcare to entertainment.\n",
        "11. Good for Data Science and AI\n",
        "Data Science Libraries: Python’s libraries like pandas, NumPy, and SciPy are essential tools in data analysis, while libraries like TensorFlow, Keras, and PyTorch are foundational for machine learning and AI development.\n",
        "Integration with Big Data Technologies: Python integrates well with big data tools like Hadoop and Spark, making it popular in data-driven fields.\n",
        "12. Strong IDE Support\n",
        "Advanced IDEs: Python is supported by many Integrated Development Environments (IDEs) like PyCharm, VSCode, and Jupyter Notebook, which enhance the development experience with features like code completion, debugging, and version control integration.\n",
        "13. Speed of Development\n",
        "Rapid Prototyping: Python’s simplicity and ease of use make it an excellent choice for prototyping and testing ideas quickly, without extensive overhead in coding or debugging.\n",
        "14. Corporate Support\n",
        "Industry Adoption: Python is widely used in many industries, from web development (e.g., Instagram, Pinterest) to finance (e.g., JPMorgan), science (e.g., NASA), and technology (e.g., Google, Facebook). Its widespread adoption by companies ensures continuous improvement and longevity.\n"
      ],
      "metadata": {
        "id": "utKwFiJ6BqyD"
      }
    },
    {
      "cell_type": "code",
      "source": [
        "Describe the role of predefined keywords in Python and provide examples of how they are used in a\n",
        "program."
      ],
      "metadata": {
        "id": "hBryqjHHBxu4"
      },
      "execution_count": null,
      "outputs": []
    },
    {
      "cell_type": "markdown",
      "source": [
        "In Python, predefined keywords (also known as reserved words) are special words that have a predefined meaning and are integral to the structure and syntax of the Python language. These keywords are reserved by the Python interpreter and cannot be used as identifiers (such as variable names, function names, or class names).\n",
        "\n",
        "Role of Predefined Keywords in Python\n",
        "Defining Program Structure: Keywords define the structure and flow of control in Python programs, such as how loops and conditionals are written, how functions and classes are defined, and how exceptions are handled.\n",
        "\n",
        "Syntax Rules: These keywords help enforce the syntax and grammar of the Python language. For example, if, else, and elif control conditional logic, while for and while control loops.\n",
        "\n",
        "Control Flow: Keywords like break, continue, return, and pass are used to control the flow of execution within loops, functions, or classes.\n",
        "\n",
        "Defining Variables and Functions: Keywords like def, class, and global define functions, classes, and variable scope respectively.\n",
        "\n",
        "Exception Handling: Keywords like try, except, finally, and raise are used for managing exceptions and errors in the program.\n",
        "\n",
        "Logical Operations: Keywords such as and, or, and not are used to combine or negate boolean expressions."
      ],
      "metadata": {
        "id": "FiXWc0rkCcNU"
      }
    },
    {
      "cell_type": "code",
      "source": [
        "x = 10\n",
        "if x > 5:\n",
        "    print(\"x is greater than 5\")\n",
        "elif x == 5:\n",
        "    print(\"x is equal to 5\")\n",
        "else:\n",
        "    print(\"x is less than 5\")\n"
      ],
      "metadata": {
        "colab": {
          "base_uri": "https://localhost:8080/"
        },
        "id": "a51mK6wdCwMc",
        "outputId": "c76270b4-84cc-4792-e345-e6ba90520648"
      },
      "execution_count": null,
      "outputs": [
        {
          "output_type": "stream",
          "name": "stdout",
          "text": [
            "x is greater than 5\n"
          ]
        }
      ]
    },
    {
      "cell_type": "markdown",
      "source": [
        "for, while, break, continue (Loops)\n",
        "These keywords are used for looping and controlling the loop's behavior"
      ],
      "metadata": {
        "id": "EYC747-xDNG2"
      }
    },
    {
      "cell_type": "code",
      "source": [
        "# Using for loop\n",
        "for i in range(5):\n",
        "    if i == 3:\n",
        "        break  # Exit the loop when i equals 3\n",
        "    print(i)\n",
        "\n",
        "# Using while loop\n",
        "i = 0\n",
        "while i < 3:\n",
        "    print(i)\n",
        "    i += 1\n"
      ],
      "metadata": {
        "colab": {
          "base_uri": "https://localhost:8080/"
        },
        "id": "2ToVMGKyDTSG",
        "outputId": "70290d9f-b196-4334-e65f-0b253e722873"
      },
      "execution_count": null,
      "outputs": [
        {
          "output_type": "stream",
          "name": "stdout",
          "text": [
            "0\n",
            "1\n",
            "2\n",
            "0\n",
            "1\n",
            "2\n"
          ]
        }
      ]
    },
    {
      "cell_type": "markdown",
      "source": [
        "def (Function Definition)\n",
        "The def keyword is used to define functions"
      ],
      "metadata": {
        "id": "XSRC29p6DcLb"
      }
    },
    {
      "cell_type": "code",
      "source": [
        "def greet(name):\n",
        "    print(f\"Hello, {name}!\")\n",
        "\n",
        "greet(\"Alice\")\n"
      ],
      "metadata": {
        "colab": {
          "base_uri": "https://localhost:8080/"
        },
        "id": "86g-hRFyDjms",
        "outputId": "6eea9bef-4f0d-4afa-a1fe-1d3d406844ac"
      },
      "execution_count": null,
      "outputs": [
        {
          "output_type": "stream",
          "name": "stdout",
          "text": [
            "Hello, Alice!\n"
          ]
        }
      ]
    },
    {
      "cell_type": "markdown",
      "source": [
        "return (Returning from Functions)\n",
        "The return keyword is used to send a value back from a function"
      ],
      "metadata": {
        "id": "LeM_PglxDvyu"
      }
    },
    {
      "cell_type": "code",
      "source": [
        "def add(a, b):\n",
        "    return a + b\n",
        "\n",
        "result = add(3, 4)\n",
        "print(result)\n"
      ],
      "metadata": {
        "colab": {
          "base_uri": "https://localhost:8080/"
        },
        "id": "-BpeNxJDDw5N",
        "outputId": "df093223-b667-4b17-a667-bd1add8cae5d"
      },
      "execution_count": null,
      "outputs": [
        {
          "output_type": "stream",
          "name": "stdout",
          "text": [
            "7\n"
          ]
        }
      ]
    },
    {
      "cell_type": "markdown",
      "source": [
        "try, except, finally (Exception Handling)\n",
        "These keywords are used for handling errors or exceptions that occur during program execution"
      ],
      "metadata": {
        "id": "UoYwF5GPD4tb"
      }
    },
    {
      "cell_type": "code",
      "source": [
        "try:\n",
        "    x = 10 / 0\n",
        "except ZeroDivisionError:\n",
        "    print(\"Cannot divide by zero!\")\n",
        "finally:\n",
        "    print(\"This will always execute.\")\n"
      ],
      "metadata": {
        "colab": {
          "base_uri": "https://localhost:8080/"
        },
        "id": "GA-LvJiAD9-y",
        "outputId": "3f606bc8-4f09-4bef-ff5a-cf8e0a439fd4"
      },
      "execution_count": null,
      "outputs": [
        {
          "output_type": "stream",
          "name": "stdout",
          "text": [
            "Cannot divide by zero!\n",
            "This will always execute.\n"
          ]
        }
      ]
    },
    {
      "cell_type": "markdown",
      "source": [
        "class (Class Definition)\n",
        "The class keyword is used to define a class"
      ],
      "metadata": {
        "id": "Odo7kQUuEJEW"
      }
    },
    {
      "cell_type": "code",
      "source": [
        "class Person:\n",
        "    def __init__(self, name, age):\n",
        "        self.name = name\n",
        "        self.age = age\n",
        "\n",
        "    def introduce(self):\n",
        "        print(f\"Hi, I'm {self.name} and I'm {self.age} years old.\")\n",
        "\n",
        "# Create an instance of the class\n",
        "person = Person(\"Bob\", 30)\n",
        "person.introduce()\n"
      ],
      "metadata": {
        "colab": {
          "base_uri": "https://localhost:8080/"
        },
        "id": "GjsM_dVMEJ6s",
        "outputId": "16442927-51f5-4ddf-cbdb-b282f995f2fa"
      },
      "execution_count": null,
      "outputs": [
        {
          "output_type": "stream",
          "name": "stdout",
          "text": [
            "Hi, I'm Bob and I'm 30 years old.\n"
          ]
        }
      ]
    },
    {
      "cell_type": "markdown",
      "source": [
        "and, or, not (Logical Operators)\n",
        "These keywords are used to combine boolean expressions"
      ],
      "metadata": {
        "id": "JqjLMpDLET8-"
      }
    },
    {
      "cell_type": "code",
      "source": [
        "x = 5\n",
        "y = 10\n",
        "if x > 3 and y < 15:\n",
        "    print(\"Both conditions are True\")\n",
        "\n",
        "if not x == 10:\n",
        "    print(\"x is not 10\")\n"
      ],
      "metadata": {
        "colab": {
          "base_uri": "https://localhost:8080/"
        },
        "id": "eXY2XWncEaKR",
        "outputId": "a159ab09-81bb-4832-ce35-537e585f854e"
      },
      "execution_count": null,
      "outputs": [
        {
          "output_type": "stream",
          "name": "stdout",
          "text": [
            "Both conditions are True\n",
            "x is not 10\n"
          ]
        }
      ]
    },
    {
      "cell_type": "markdown",
      "source": [
        "Compare and contrast mutable and immutable objects in Python with examples"
      ],
      "metadata": {
        "id": "cGgcV0lYEmGq"
      }
    },
    {
      "cell_type": "markdown",
      "source": [
        "mutable and immutable objects refer to the ability (or lack thereof) to change the state or content of an object after it has been created. Understanding the distinction between mutable and immutable objects is important for writing efficient and bug-free Python code.\n",
        "\n",
        "1. Mutable Objects\n",
        "A mutable object is an object whose state or value can be changed after it is created. When you modify a mutable object, it updates the same object in memory.\n",
        "\n",
        "Key Characteristics of Mutable Objects:\n",
        "Their content or state can be changed after creation.\n",
        "Modifications to mutable objects affect the original object.\n",
        "Examples: lists, dictionaries, sets, bytearrays."
      ],
      "metadata": {
        "id": "RvrJV-fEEvzy"
      }
    },
    {
      "cell_type": "code",
      "source": [
        "# Example with a list (mutable object)\n",
        "my_list = [1, 2, 3]\n",
        "print(\"Original list:\", my_list)\n",
        "\n",
        "# Modifying the list\n",
        "my_list.append(4)\n",
        "print(\"Modified list:\", my_list)\n",
        "\n",
        "# Changing an element\n",
        "my_list[0] = 10\n",
        "print(\"Updated list:\", my_list)\n"
      ],
      "metadata": {
        "colab": {
          "base_uri": "https://localhost:8080/"
        },
        "id": "T6D_96vbExbj",
        "outputId": "daf6110c-5d2c-4700-8411-fe8a41dd5e2d"
      },
      "execution_count": null,
      "outputs": [
        {
          "output_type": "stream",
          "name": "stdout",
          "text": [
            "Original list: [1, 2, 3]\n",
            "Modified list: [1, 2, 3, 4]\n",
            "Updated list: [10, 2, 3, 4]\n"
          ]
        }
      ]
    },
    {
      "cell_type": "markdown",
      "source": [
        " Immutable Objects\n",
        "An immutable object is an object whose state or value cannot be changed once it is created. Any operation that tries to modify the object will create a new object instead.\n",
        "\n",
        "Key Characteristics of Immutable Objects:\n",
        "Their content or state cannot be modified after creation.\n",
        "Any change creates a new object, leaving the original object unchanged.\n",
        "Examples: integers, floats, strings, tuples, frozensets."
      ],
      "metadata": {
        "id": "8xDxALWRFayz"
      }
    },
    {
      "cell_type": "code",
      "source": [
        "# Example with a string (immutable object)\n",
        "my_str = \"Hello\"\n",
        "print(\"Original string:\", my_str)\n",
        "\n",
        "# Trying to modify the string (this will not change the original object)\n",
        "my_str = my_str + \" World\"  # This creates a new string object\n",
        "print(\"Modified string:\", my_str)\n"
      ],
      "metadata": {
        "colab": {
          "base_uri": "https://localhost:8080/"
        },
        "id": "pk4aIZ-_FcPj",
        "outputId": "7f689e3e-6729-4b72-f306-e8ffdf7346a1"
      },
      "execution_count": null,
      "outputs": [
        {
          "output_type": "stream",
          "name": "stdout",
          "text": [
            "Original string: Hello\n",
            "Modified string: Hello World\n"
          ]
        }
      ]
    },
    {
      "cell_type": "markdown",
      "source": [
        " Discuss the different types of operators in Python and provide examples of how they are used"
      ],
      "metadata": {
        "id": "zWqL8Zo3FwxI"
      }
    },
    {
      "cell_type": "markdown",
      "source": [
        "operators are special symbols used to perform operations on variables and values. These operations include arithmetic calculations, comparisons, logical operations, and more. Python provides a rich set of operators that can be classified into several categories based on their functionality.\n",
        "\n",
        "1. Arithmetic Operators\n",
        "These operators are used to perform basic mathematical operations like addition, subtraction, multiplication, and division.\n",
        "\n",
        "Common Arithmetic Operators:\n",
        "+ : Addition\n",
        "- : Subtraction\n",
        "* : Multiplication\n",
        "/ : Division (always returns a float)\n",
        "// : Floor Division (returns the integer quotient, discards the remainder)\n",
        "% : Modulus (returns the remainder of a division)\n",
        "** : Exponentiation (raises a number to the power of another)"
      ],
      "metadata": {
        "id": "MbsrRSimF0Mq"
      }
    },
    {
      "cell_type": "code",
      "source": [
        "a = 10\n",
        "b = 3\n",
        "\n",
        "# Addition\n",
        "print(a + b)\n",
        "\n",
        "# Subtraction\n",
        "print(a - b)\n",
        "\n",
        "# Multiplication\n",
        "print(a * b)\n",
        "\n",
        "# Division\n",
        "print(a / b)\n",
        "\n",
        "# Floor Division\n",
        "print(a // b)\n",
        "\n",
        "# Modulus\n",
        "print(a % b)\n",
        "\n",
        "# Exponentiation\n",
        "print(a ** b)\n"
      ],
      "metadata": {
        "colab": {
          "base_uri": "https://localhost:8080/"
        },
        "id": "uwv7zxNpGO1a",
        "outputId": "9c709785-0a58-4fa0-dc4a-ee14bda19417"
      },
      "execution_count": null,
      "outputs": [
        {
          "output_type": "stream",
          "name": "stdout",
          "text": [
            "13\n",
            "7\n",
            "30\n",
            "3.3333333333333335\n",
            "3\n",
            "1\n",
            "1000\n"
          ]
        }
      ]
    },
    {
      "cell_type": "markdown",
      "source": [
        "Comparison (Relational) Operators\n",
        "These operators are used to compare two values or expressions. They return True or False based on the comparison.\n",
        "\n",
        "Common Comparison Operators:\n",
        "== : Equal to\n",
        "!= : Not equal to\n",
        "> : Greater than\n",
        "< : Less than\n",
        ">= : Greater than or equal to\n",
        "<= : Less than or equal to"
      ],
      "metadata": {
        "id": "ZkpmBBOgKBl6"
      }
    },
    {
      "cell_type": "code",
      "source": [
        "x = 5\n",
        "y = 10\n",
        "\n",
        "# Equal to\n",
        "print(x == y)\n",
        "\n",
        "# Not equal to\n",
        "print(x != y)\n",
        "\n",
        "# Greater than\n",
        "print(x > y)\n",
        "\n",
        "# Less than\n",
        "print(x < y)\n",
        "\n",
        "# Greater than or equal to\n",
        "print(x >= y)\n",
        "\n",
        "# Less than or equal to\n",
        "print(x <= y)\n"
      ],
      "metadata": {
        "colab": {
          "base_uri": "https://localhost:8080/"
        },
        "id": "i8FtLyHeKDD_",
        "outputId": "e47ae5b9-e9e1-4331-cfc2-f374c70adc87"
      },
      "execution_count": null,
      "outputs": [
        {
          "output_type": "stream",
          "name": "stdout",
          "text": [
            "False\n",
            "True\n",
            "False\n",
            "True\n",
            "False\n",
            "True\n"
          ]
        }
      ]
    },
    {
      "cell_type": "markdown",
      "source": [
        "Assignment Operators\n",
        "Assignment operators are used to assign values to variables.\n",
        "\n",
        "Common Assignment Operators:\n",
        "= : Simple assignment\n",
        "+= : Add and assign\n",
        "-= : Subtract and assign\n",
        "*= : Multiply and assign\n",
        "/= : Divide and assign\n",
        "//=: Floor divide and assign\n",
        "%= : Modulus and assign\n",
        "**=: Exponentiate and assign"
      ],
      "metadata": {
        "id": "P75FUGXDKdAY"
      }
    },
    {
      "cell_type": "code",
      "source": [
        "a = 5\n",
        "\n",
        "# Addition assignment\n",
        "a += 3   # a = a + 3\n",
        "print(a)\n",
        "\n",
        "# Subtraction assignment\n",
        "a -= 2   # a = a - 2\n",
        "print(a)\n",
        "\n",
        "# Multiplication assignment\n",
        "a *= 2   # a = a * 2\n",
        "print(a)\n",
        "\n",
        "# Division assignment\n",
        "a /= 4   # a = a / 4\n",
        "print(a)\n",
        "\n",
        "# Modulus assignment\n",
        "a %= 2   # a = a % 2\n",
        "print(a)\n",
        "\n",
        "# Exponentiation assignment\n",
        "a **= 3  # a = a ** 3\n",
        "print(a)\n"
      ],
      "metadata": {
        "colab": {
          "base_uri": "https://localhost:8080/"
        },
        "id": "Y1mTD48bKeoP",
        "outputId": "822b9768-619f-4900-9b69-9abca5e67bf4"
      },
      "execution_count": null,
      "outputs": [
        {
          "output_type": "stream",
          "name": "stdout",
          "text": [
            "8\n",
            "6\n",
            "12\n",
            "3.0\n",
            "1.0\n",
            "1.0\n"
          ]
        }
      ]
    },
    {
      "cell_type": "markdown",
      "source": [
        "Explain the concept of type casting in Python with examples"
      ],
      "metadata": {
        "id": "zzYVfndfMPNY"
      }
    },
    {
      "cell_type": "markdown",
      "source": [
        "Type casting in Python refers to the conversion of one data type to another. This can be done explicitly by the programmer using built-in functions, or implicitly by Python when it automatically converts types based on the context.\n",
        "\n",
        "Types of Type Casting in Python\n",
        "There are two main types of type casting in Python:\n",
        "\n",
        "Implicit Type Casting (Automatic Type Conversion): This is done automatically by Python when an operation involves two different data types, and Python can safely convert one type to another without losing information.\n",
        "\n",
        "Explicit Type Casting (Manual Type Conversion): This involves manually converting one data type to another using Python's built-in functions.\n",
        "\n",
        "1. Implicit Type Casting (Automatic Type Conversion)\n",
        "Implicit type casting is performed automatically by Python when you mix different data types in an expression. Python promotes the data type with the lower precision to the data type with higher precision to ensure the operation can be performed.\n",
        "\n",
        "Example of Implicit Type Casting:\n",
        "When you add an integer and a float, Python automatically converts the integer to a float to avoid data loss."
      ],
      "metadata": {
        "id": "UF_dU4mMMQhM"
      }
    },
    {
      "cell_type": "code",
      "source": [
        "# Integer and float\n",
        "num1 = 10        # Integer\n",
        "num2 = 5.5       # Float\n",
        "\n",
        "result = num1 + num2  # Python automatically converts num1 to float\n",
        "print(result)\n"
      ],
      "metadata": {
        "colab": {
          "base_uri": "https://localhost:8080/"
        },
        "id": "t8N5WKPVMyxq",
        "outputId": "51c85610-4f16-424f-eeaf-e986886dac45"
      },
      "execution_count": null,
      "outputs": [
        {
          "output_type": "stream",
          "name": "stdout",
          "text": [
            "15.5\n"
          ]
        }
      ]
    },
    {
      "cell_type": "markdown",
      "source": [
        "Explicit Type Casting (Manual Type Conversion)\n",
        "Explicit type casting is when you manually convert one data type to another using Python's built-in functions. The common functions used for type casting are:\n",
        "\n",
        "int(): Converts a value to an integer.\n",
        "float(): Converts a value to a floating-point number.\n",
        "str(): Converts a value to a string.\n",
        "list(): Converts a value to a list.\n",
        "tuple(): Converts a value to a tuple.\n",
        "set(): Converts a value to a set.\n",
        "bool(): Converts a value to a boolean (either True or False).\n",
        "Examples of Explicit Type Casting\n",
        " Converting to Integer\n",
        "You can convert a float or a string representing an integer to an integer using the int() function."
      ],
      "metadata": {
        "id": "2jZnrYB3NRJR"
      }
    },
    {
      "cell_type": "code",
      "source": [
        "# Converting a float to an integer\n",
        "num = 5.75\n",
        "converted_num = int(num)  # The decimal part is truncated\n",
        "print(converted_num)\n",
        "\n",
        "# Converting a string to an integer\n",
        "str_num = \"10\"\n",
        "converted_str = int(str_num)\n",
        "print(converted_str)\n"
      ],
      "metadata": {
        "colab": {
          "base_uri": "https://localhost:8080/"
        },
        "id": "_TyH_XY_NY9i",
        "outputId": "bb549440-6ac9-45dc-f5a2-82e808b9c5c1"
      },
      "execution_count": null,
      "outputs": [
        {
          "output_type": "stream",
          "name": "stdout",
          "text": [
            "5\n",
            "10\n"
          ]
        }
      ]
    },
    {
      "cell_type": "markdown",
      "source": [
        " Converting to Float\n",
        "You can convert an integer or a string representing a decimal number to a float using the float() function."
      ],
      "metadata": {
        "id": "emZDee6QN8RT"
      }
    },
    {
      "cell_type": "code",
      "source": [
        "# Converting an integer to a float\n",
        "num = 5\n",
        "converted_num = float(num)\n",
        "print(converted_num)\n",
        "\n",
        "# Converting a string to a float\n",
        "str_num = \"10.5\"\n",
        "converted_str = float(str_num)\n",
        "print(converted_str)\n"
      ],
      "metadata": {
        "colab": {
          "base_uri": "https://localhost:8080/"
        },
        "id": "ROtCDvlRN9PE",
        "outputId": "034e3511-a066-4c8a-89f9-0c38ac3c8faa"
      },
      "execution_count": null,
      "outputs": [
        {
          "output_type": "stream",
          "name": "stdout",
          "text": [
            "5.0\n",
            "10.5\n"
          ]
        }
      ]
    },
    {
      "cell_type": "markdown",
      "source": [
        " Converting to String\n",
        "The str() function is used to convert other data types (like integers, floats, etc.) to strings."
      ],
      "metadata": {
        "id": "-4tqCWieOIZj"
      }
    },
    {
      "cell_type": "code",
      "source": [
        "# Converting an integer to a string\n",
        "num = 123\n",
        "converted_str = str(num)\n",
        "print(converted_str)\n",
        "\n",
        "# Converting a float to a string\n",
        "float_num = 10.75\n",
        "converted_str = str(float_num)\n",
        "print(converted_str)\n"
      ],
      "metadata": {
        "id": "qfi-oCaYONfx",
        "colab": {
          "base_uri": "https://localhost:8080/"
        },
        "outputId": "706dc7f4-9931-4dbb-8e94-dee57bf79b99"
      },
      "execution_count": 16,
      "outputs": [
        {
          "output_type": "stream",
          "name": "stdout",
          "text": [
            "123\n",
            "10.75\n"
          ]
        }
      ]
    },
    {
      "cell_type": "markdown",
      "source": [
        "Converting to List, Tuple, and Set\n",
        "You can convert other types, such as strings or tuples, into lists, tuples, or sets."
      ],
      "metadata": {
        "id": "bavFEaYkTBzl"
      }
    },
    {
      "cell_type": "code",
      "source": [
        "# Converting a string to a list\n",
        "string = \"Hello\"\n",
        "converted_list = list(string)\n",
        "print(converted_list)\n",
        "\n",
        "# Converting a string to a tuple\n",
        "converted_tuple = tuple(string)\n",
        "print(converted_tuple)\n",
        "\n",
        "# Converting a string to a set (removes duplicates)\n",
        "converted_set = set(string)\n",
        "print(converted_set)\n"
      ],
      "metadata": {
        "colab": {
          "base_uri": "https://localhost:8080/"
        },
        "id": "8nZ0KSy5TD4o",
        "outputId": "9b659411-407c-40fa-8b7a-27e6fcc809cd"
      },
      "execution_count": 17,
      "outputs": [
        {
          "output_type": "stream",
          "name": "stdout",
          "text": [
            "['H', 'e', 'l', 'l', 'o']\n",
            "('H', 'e', 'l', 'l', 'o')\n",
            "{'e', 'o', 'l', 'H'}\n"
          ]
        }
      ]
    },
    {
      "cell_type": "markdown",
      "source": [
        "How do conditional statements work in Python? Illustrate with examples"
      ],
      "metadata": {
        "id": "-DtgFUqnUV75"
      }
    },
    {
      "cell_type": "markdown",
      "source": [
        "Conditional statements in Python are used to execute certain blocks of code based on whether a condition is True or False. They allow you to control the flow of a program by evaluating expressions and making decisions accordingly.\n",
        "\n",
        "There are three main types of conditional statements in Python:\n",
        "\n",
        "if statement: Executes a block of code if the condition is True.\n",
        "else statement: Executes a block of code if the condition in the if statement is False.\n",
        "elif (else if) statement: Tests multiple conditions; if the first if condition is False, it checks the next elif condition, and so on."
      ],
      "metadata": {
        "id": "QT-30B55Ufym"
      }
    },
    {
      "cell_type": "markdown",
      "source": [
        "The if Statement\n",
        "The if statement is used to test a condition. If the condition evaluates to True, the block of code inside the if block is executed."
      ],
      "metadata": {
        "id": "Cba-YwxEW5pr"
      }
    },
    {
      "cell_type": "code",
      "source": [
        "age = 18\n",
        "\n",
        "if age >= 18:\n",
        "    print(\"You are an adult.\")\n"
      ],
      "metadata": {
        "colab": {
          "base_uri": "https://localhost:8080/"
        },
        "id": "GCzG6BriW-X2",
        "outputId": "db3f7696-67c1-4f74-f678-8636a0e1a61d"
      },
      "execution_count": 19,
      "outputs": [
        {
          "output_type": "stream",
          "name": "stdout",
          "text": [
            "You are an adult.\n"
          ]
        }
      ]
    },
    {
      "cell_type": "markdown",
      "source": [
        "The else Statement\n",
        "The else statement is used after an if statement to provide an alternative block of code that runs if the if condition evaluates to False."
      ],
      "metadata": {
        "id": "KF8uZMdcXddk"
      }
    },
    {
      "cell_type": "code",
      "source": [
        "age = 16\n",
        "\n",
        "if age >= 18:\n",
        "    print(\"You are an adult.\")\n",
        "else:\n",
        "    print(\"You are a minor.\")\n"
      ],
      "metadata": {
        "colab": {
          "base_uri": "https://localhost:8080/"
        },
        "id": "b9kbjqhwXemX",
        "outputId": "0baf1e53-bf90-4f73-a61c-062aed2da4bb"
      },
      "execution_count": 20,
      "outputs": [
        {
          "output_type": "stream",
          "name": "stdout",
          "text": [
            "You are a minor.\n"
          ]
        }
      ]
    },
    {
      "cell_type": "markdown",
      "source": [
        "The elif (else if) Statement\n",
        "The elif statement is used to check multiple conditions. It allows you to test more than one condition, and the first condition that evaluates to True will execute its corresponding block of code. If none of the if or elif conditions are True, the else block will execute (if it exists)."
      ],
      "metadata": {
        "id": "6oeNt4X4YHOY"
      }
    },
    {
      "cell_type": "code",
      "source": [
        "age = 21\n",
        "\n",
        "if age >= 65:\n",
        "    print(\"You are a senior citizen.\")\n",
        "elif age >= 18:\n",
        "    print(\"You are an adult.\")\n",
        "else:\n",
        "    print(\"You are a minor.\")\n"
      ],
      "metadata": {
        "colab": {
          "base_uri": "https://localhost:8080/"
        },
        "id": "b0dSn1ktYIdy",
        "outputId": "528f31db-0da2-497a-e89e-54d0127bf633"
      },
      "execution_count": 21,
      "outputs": [
        {
          "output_type": "stream",
          "name": "stdout",
          "text": [
            "You are an adult.\n"
          ]
        }
      ]
    },
    {
      "cell_type": "markdown",
      "source": [
        "Multiple elif Statements\n",
        "You can have multiple elif branches to check several different conditions in sequence."
      ],
      "metadata": {
        "id": "jJGhXqyiYSmC"
      }
    },
    {
      "cell_type": "code",
      "source": [
        "marks = 85\n",
        "\n",
        "if marks >= 90:\n",
        "    print(\"A grade\")\n",
        "elif marks >= 75:\n",
        "    print(\"B grade\")\n",
        "elif marks >= 50:\n",
        "    print(\"C grade\")\n",
        "else:\n",
        "    print(\"Fail\")\n"
      ],
      "metadata": {
        "colab": {
          "base_uri": "https://localhost:8080/"
        },
        "id": "-KcK61dxYdDv",
        "outputId": "731466a2-5ab9-4456-eaae-2bd1dbe5a653"
      },
      "execution_count": 22,
      "outputs": [
        {
          "output_type": "stream",
          "name": "stdout",
          "text": [
            "B grade\n"
          ]
        }
      ]
    },
    {
      "cell_type": "markdown",
      "source": [
        "The pass Statement\n",
        "Sometimes, you may want to create a conditional block without any action. In such cases, you can use the pass statement, which is a placeholder that does nothing."
      ],
      "metadata": {
        "id": "p2-iK2ioYtk4"
      }
    },
    {
      "cell_type": "code",
      "source": [
        "age = 15\n",
        "\n",
        "if age >= 18:\n",
        "    print(\"You are an adult.\")\n",
        "else:\n",
        "    pass  # No action is taken if the condition is False\n"
      ],
      "metadata": {
        "id": "TH-CfobHYxgT"
      },
      "execution_count": 24,
      "outputs": []
    },
    {
      "cell_type": "markdown",
      "source": [
        "Describe the different types of loops in Python and their use cases with examples."
      ],
      "metadata": {
        "id": "sFZF2JkBbCyl"
      }
    },
    {
      "cell_type": "markdown",
      "source": [
        " loops are used to execute a block of code multiple times based on certain conditions. There are two main types of loops in Python:\n",
        "\n",
        "for loop\n",
        "while loop\n",
        "Each type of loop serves different purposes and has its own use cases. Let's explore both types, along with examples and typical use cases.\n",
        "\n",
        "1. The for Loop\n",
        "The for loop is used to iterate over a sequence (such as a list, tuple, dictionary, set, or string) or any other iterable object. The loop iterates over the items in the sequence, executing the block of code for each item.\n",
        "\n"
      ],
      "metadata": {
        "id": "0yXpxUbvbFQ0"
      }
    },
    {
      "cell_type": "code",
      "source": [
        "fruits = [\"apple\", \"banana\", \"cherry\"]\n",
        "\n",
        "for fruit in fruits:\n",
        "    print(fruit)\n"
      ],
      "metadata": {
        "colab": {
          "base_uri": "https://localhost:8080/"
        },
        "id": "-abxBso1bYrh",
        "outputId": "a6921143-51dd-4706-a74a-68596f2412f9"
      },
      "execution_count": 25,
      "outputs": [
        {
          "output_type": "stream",
          "name": "stdout",
          "text": [
            "apple\n",
            "banana\n",
            "cherry\n"
          ]
        }
      ]
    },
    {
      "cell_type": "code",
      "source": [
        "word = \"hello\"\n",
        "\n",
        "for letter in word:\n",
        "    print(letter)\n"
      ],
      "metadata": {
        "colab": {
          "base_uri": "https://localhost:8080/"
        },
        "id": "QRQfbVy2bjBg",
        "outputId": "f039518d-cc85-4207-f036-80a7e50c97c5"
      },
      "execution_count": 26,
      "outputs": [
        {
          "output_type": "stream",
          "name": "stdout",
          "text": [
            "h\n",
            "e\n",
            "l\n",
            "l\n",
            "o\n"
          ]
        }
      ]
    },
    {
      "cell_type": "code",
      "source": [
        "for i in range(500):\n",
        "    print(i)\n"
      ],
      "metadata": {
        "colab": {
          "base_uri": "https://localhost:8080/"
        },
        "id": "r3l_kfFpbpB2",
        "outputId": "a51fcb30-6282-415f-86ac-237679cc7e42"
      },
      "execution_count": 28,
      "outputs": [
        {
          "output_type": "stream",
          "name": "stdout",
          "text": [
            "0\n",
            "1\n",
            "2\n",
            "3\n",
            "4\n",
            "5\n",
            "6\n",
            "7\n",
            "8\n",
            "9\n",
            "10\n",
            "11\n",
            "12\n",
            "13\n",
            "14\n",
            "15\n",
            "16\n",
            "17\n",
            "18\n",
            "19\n",
            "20\n",
            "21\n",
            "22\n",
            "23\n",
            "24\n",
            "25\n",
            "26\n",
            "27\n",
            "28\n",
            "29\n",
            "30\n",
            "31\n",
            "32\n",
            "33\n",
            "34\n",
            "35\n",
            "36\n",
            "37\n",
            "38\n",
            "39\n",
            "40\n",
            "41\n",
            "42\n",
            "43\n",
            "44\n",
            "45\n",
            "46\n",
            "47\n",
            "48\n",
            "49\n",
            "50\n",
            "51\n",
            "52\n",
            "53\n",
            "54\n",
            "55\n",
            "56\n",
            "57\n",
            "58\n",
            "59\n",
            "60\n",
            "61\n",
            "62\n",
            "63\n",
            "64\n",
            "65\n",
            "66\n",
            "67\n",
            "68\n",
            "69\n",
            "70\n",
            "71\n",
            "72\n",
            "73\n",
            "74\n",
            "75\n",
            "76\n",
            "77\n",
            "78\n",
            "79\n",
            "80\n",
            "81\n",
            "82\n",
            "83\n",
            "84\n",
            "85\n",
            "86\n",
            "87\n",
            "88\n",
            "89\n",
            "90\n",
            "91\n",
            "92\n",
            "93\n",
            "94\n",
            "95\n",
            "96\n",
            "97\n",
            "98\n",
            "99\n",
            "100\n",
            "101\n",
            "102\n",
            "103\n",
            "104\n",
            "105\n",
            "106\n",
            "107\n",
            "108\n",
            "109\n",
            "110\n",
            "111\n",
            "112\n",
            "113\n",
            "114\n",
            "115\n",
            "116\n",
            "117\n",
            "118\n",
            "119\n",
            "120\n",
            "121\n",
            "122\n",
            "123\n",
            "124\n",
            "125\n",
            "126\n",
            "127\n",
            "128\n",
            "129\n",
            "130\n",
            "131\n",
            "132\n",
            "133\n",
            "134\n",
            "135\n",
            "136\n",
            "137\n",
            "138\n",
            "139\n",
            "140\n",
            "141\n",
            "142\n",
            "143\n",
            "144\n",
            "145\n",
            "146\n",
            "147\n",
            "148\n",
            "149\n",
            "150\n",
            "151\n",
            "152\n",
            "153\n",
            "154\n",
            "155\n",
            "156\n",
            "157\n",
            "158\n",
            "159\n",
            "160\n",
            "161\n",
            "162\n",
            "163\n",
            "164\n",
            "165\n",
            "166\n",
            "167\n",
            "168\n",
            "169\n",
            "170\n",
            "171\n",
            "172\n",
            "173\n",
            "174\n",
            "175\n",
            "176\n",
            "177\n",
            "178\n",
            "179\n",
            "180\n",
            "181\n",
            "182\n",
            "183\n",
            "184\n",
            "185\n",
            "186\n",
            "187\n",
            "188\n",
            "189\n",
            "190\n",
            "191\n",
            "192\n",
            "193\n",
            "194\n",
            "195\n",
            "196\n",
            "197\n",
            "198\n",
            "199\n",
            "200\n",
            "201\n",
            "202\n",
            "203\n",
            "204\n",
            "205\n",
            "206\n",
            "207\n",
            "208\n",
            "209\n",
            "210\n",
            "211\n",
            "212\n",
            "213\n",
            "214\n",
            "215\n",
            "216\n",
            "217\n",
            "218\n",
            "219\n",
            "220\n",
            "221\n",
            "222\n",
            "223\n",
            "224\n",
            "225\n",
            "226\n",
            "227\n",
            "228\n",
            "229\n",
            "230\n",
            "231\n",
            "232\n",
            "233\n",
            "234\n",
            "235\n",
            "236\n",
            "237\n",
            "238\n",
            "239\n",
            "240\n",
            "241\n",
            "242\n",
            "243\n",
            "244\n",
            "245\n",
            "246\n",
            "247\n",
            "248\n",
            "249\n",
            "250\n",
            "251\n",
            "252\n",
            "253\n",
            "254\n",
            "255\n",
            "256\n",
            "257\n",
            "258\n",
            "259\n",
            "260\n",
            "261\n",
            "262\n",
            "263\n",
            "264\n",
            "265\n",
            "266\n",
            "267\n",
            "268\n",
            "269\n",
            "270\n",
            "271\n",
            "272\n",
            "273\n",
            "274\n",
            "275\n",
            "276\n",
            "277\n",
            "278\n",
            "279\n",
            "280\n",
            "281\n",
            "282\n",
            "283\n",
            "284\n",
            "285\n",
            "286\n",
            "287\n",
            "288\n",
            "289\n",
            "290\n",
            "291\n",
            "292\n",
            "293\n",
            "294\n",
            "295\n",
            "296\n",
            "297\n",
            "298\n",
            "299\n",
            "300\n",
            "301\n",
            "302\n",
            "303\n",
            "304\n",
            "305\n",
            "306\n",
            "307\n",
            "308\n",
            "309\n",
            "310\n",
            "311\n",
            "312\n",
            "313\n",
            "314\n",
            "315\n",
            "316\n",
            "317\n",
            "318\n",
            "319\n",
            "320\n",
            "321\n",
            "322\n",
            "323\n",
            "324\n",
            "325\n",
            "326\n",
            "327\n",
            "328\n",
            "329\n",
            "330\n",
            "331\n",
            "332\n",
            "333\n",
            "334\n",
            "335\n",
            "336\n",
            "337\n",
            "338\n",
            "339\n",
            "340\n",
            "341\n",
            "342\n",
            "343\n",
            "344\n",
            "345\n",
            "346\n",
            "347\n",
            "348\n",
            "349\n",
            "350\n",
            "351\n",
            "352\n",
            "353\n",
            "354\n",
            "355\n",
            "356\n",
            "357\n",
            "358\n",
            "359\n",
            "360\n",
            "361\n",
            "362\n",
            "363\n",
            "364\n",
            "365\n",
            "366\n",
            "367\n",
            "368\n",
            "369\n",
            "370\n",
            "371\n",
            "372\n",
            "373\n",
            "374\n",
            "375\n",
            "376\n",
            "377\n",
            "378\n",
            "379\n",
            "380\n",
            "381\n",
            "382\n",
            "383\n",
            "384\n",
            "385\n",
            "386\n",
            "387\n",
            "388\n",
            "389\n",
            "390\n",
            "391\n",
            "392\n",
            "393\n",
            "394\n",
            "395\n",
            "396\n",
            "397\n",
            "398\n",
            "399\n",
            "400\n",
            "401\n",
            "402\n",
            "403\n",
            "404\n",
            "405\n",
            "406\n",
            "407\n",
            "408\n",
            "409\n",
            "410\n",
            "411\n",
            "412\n",
            "413\n",
            "414\n",
            "415\n",
            "416\n",
            "417\n",
            "418\n",
            "419\n",
            "420\n",
            "421\n",
            "422\n",
            "423\n",
            "424\n",
            "425\n",
            "426\n",
            "427\n",
            "428\n",
            "429\n",
            "430\n",
            "431\n",
            "432\n",
            "433\n",
            "434\n",
            "435\n",
            "436\n",
            "437\n",
            "438\n",
            "439\n",
            "440\n",
            "441\n",
            "442\n",
            "443\n",
            "444\n",
            "445\n",
            "446\n",
            "447\n",
            "448\n",
            "449\n",
            "450\n",
            "451\n",
            "452\n",
            "453\n",
            "454\n",
            "455\n",
            "456\n",
            "457\n",
            "458\n",
            "459\n",
            "460\n",
            "461\n",
            "462\n",
            "463\n",
            "464\n",
            "465\n",
            "466\n",
            "467\n",
            "468\n",
            "469\n",
            "470\n",
            "471\n",
            "472\n",
            "473\n",
            "474\n",
            "475\n",
            "476\n",
            "477\n",
            "478\n",
            "479\n",
            "480\n",
            "481\n",
            "482\n",
            "483\n",
            "484\n",
            "485\n",
            "486\n",
            "487\n",
            "488\n",
            "489\n",
            "490\n",
            "491\n",
            "492\n",
            "493\n",
            "494\n",
            "495\n",
            "496\n",
            "497\n",
            "498\n",
            "499\n"
          ]
        }
      ]
    },
    {
      "cell_type": "markdown",
      "source": [
        "Use Case for for loop:\n",
        "Iterating over collections: When you need to process items from a list, tuple, set, or string.\n",
        "Performing repetitive tasks: When you know in advance how many iterations you need (like iterating over a fixed number of items).\n",
        "Working with sequences: for loops are ideal for traversing through sequences such as lists, dictionaries, and strings."
      ],
      "metadata": {
        "id": "JuelRwLfb3MO"
      }
    },
    {
      "cell_type": "markdown",
      "source": [
        "The while Loop\n",
        "The while loop repeatedly executes a block of code as long as a given condition is True. The loop stops when the condition becomes False."
      ],
      "metadata": {
        "id": "S9CCWWlqb4tb"
      }
    },
    {
      "cell_type": "code",
      "source": [
        "count = 0\n",
        "\n",
        "while count < 50:\n",
        "    print(count)\n",
        "    count += 1  # increment the count to avoid an infinite loop\n"
      ],
      "metadata": {
        "colab": {
          "base_uri": "https://localhost:8080/"
        },
        "id": "GTF8jdJcb-is",
        "outputId": "a9efbec4-a5ac-4ce3-b19d-ce604943dfe7"
      },
      "execution_count": 30,
      "outputs": [
        {
          "output_type": "stream",
          "name": "stdout",
          "text": [
            "0\n",
            "1\n",
            "2\n",
            "3\n",
            "4\n",
            "5\n",
            "6\n",
            "7\n",
            "8\n",
            "9\n",
            "10\n",
            "11\n",
            "12\n",
            "13\n",
            "14\n",
            "15\n",
            "16\n",
            "17\n",
            "18\n",
            "19\n",
            "20\n",
            "21\n",
            "22\n",
            "23\n",
            "24\n",
            "25\n",
            "26\n",
            "27\n",
            "28\n",
            "29\n",
            "30\n",
            "31\n",
            "32\n",
            "33\n",
            "34\n",
            "35\n",
            "36\n",
            "37\n",
            "38\n",
            "39\n",
            "40\n",
            "41\n",
            "42\n",
            "43\n",
            "44\n",
            "45\n",
            "46\n",
            "47\n",
            "48\n",
            "49\n"
          ]
        }
      ]
    },
    {
      "cell_type": "markdown",
      "source": [
        "Infinite while loop (with break)\n",
        "An infinite loop continues running indefinitely unless a condition to stop it is met (such as a break statement)."
      ],
      "metadata": {
        "id": "FA1OIt02cQDj"
      }
    },
    {
      "cell_type": "code",
      "source": [
        "while True:\n",
        "    user_input = input(\"Enter 'exit' to stop: \")\n",
        "    if user_input == 'exit':\n",
        "        print(\"Exiting loop...\")\n",
        "        break\n",
        "    else:\n",
        "        print(\"You entered:\", user_input)\n"
      ],
      "metadata": {
        "colab": {
          "base_uri": "https://localhost:8080/"
        },
        "id": "fCkMxujPcQ1D",
        "outputId": "7dcdd11a-b6d7-417e-8af4-a2407d37933a"
      },
      "execution_count": 31,
      "outputs": [
        {
          "output_type": "stream",
          "name": "stdout",
          "text": [
            "Enter 'exit' to stop: exit\n",
            "Exiting loop...\n"
          ]
        }
      ]
    },
    {
      "cell_type": "markdown",
      "source": [
        "Using while with a condition"
      ],
      "metadata": {
        "id": "iueMmfy2cgI4"
      }
    },
    {
      "cell_type": "code",
      "source": [
        "n = 10\n",
        "while n > 0:\n",
        "    print(n)\n",
        "    n -= 2  # decrement the value of n by 2\n"
      ],
      "metadata": {
        "colab": {
          "base_uri": "https://localhost:8080/"
        },
        "id": "XVJWH1A8chk0",
        "outputId": "c6f2ae28-376f-4081-c41a-ba3ee7b18188"
      },
      "execution_count": 32,
      "outputs": [
        {
          "output_type": "stream",
          "name": "stdout",
          "text": [
            "10\n",
            "8\n",
            "6\n",
            "4\n",
            "2\n"
          ]
        }
      ]
    }
  ]
}